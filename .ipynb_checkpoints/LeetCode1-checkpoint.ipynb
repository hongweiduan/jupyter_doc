{
 "cells": [
  {
   "cell_type": "markdown",
   "metadata": {},
   "source": [
    "# 1. two sum\n",
    "给定一个整数数组，返回两个数字的索引，使它们相加到一个特定的目标。\n",
    "\n",
    "您可以假设每个输入都只有一种结果，而您不会使用相同的元素两次。\n",
    "\n",
    "例：\n",
    "给定nums = [2，7，11，15]，target = 9，\n",
    "\n",
    "因为nums [ 0 ] + nums [ 1 ] = 2 + 7 = 9，\n",
    "返回[ 0，1 ]。\n"
   ]
  },
  {
   "cell_type": "code",
   "execution_count": 20,
   "metadata": {},
   "outputs": [
    {
     "name": "stdout",
     "output_type": "stream",
     "text": [
      "1 1\n",
      "1 2\n",
      "1 3\n",
      "[1, 3]\n"
     ]
    }
   ],
   "source": [
    "class Solution(object):\n",
    "    def two_sum(self,nums,target):\n",
    "        for i in range(len(nums)):\n",
    "            if nums[i]<=target:\n",
    "                for j in range(i,len(nums)):\n",
    "                    print i ,j\n",
    "                    if nums[i]+nums[j]==target:\n",
    "                        return [i,j]\n",
    "#         print(\"No result!!!\")\n",
    "        return []\n",
    "S = Solution()\n",
    "r = S.two_sum([15,2,11,7,15],9)\n",
    "print r"
   ]
  },
  {
   "cell_type": "code",
   "execution_count": 19,
   "metadata": {
    "scrolled": true
   },
   "outputs": [
    {
     "name": "stdout",
     "output_type": "stream",
     "text": [
      "0 15 {} -6\n",
      "1 2 {-6: 0} 7\n",
      "2 11 {-6: 0, 7: 1} -2\n",
      "3 7 {-6: 0, -2: 2, 7: 1} 2\n",
      "[1, 3]\n"
     ]
    }
   ],
   "source": [
    "#good one\n",
    "class Solution(object):\n",
    "    def two_sum(self, nums, target):\n",
    "        if len(nums) <= 1:\n",
    "            return False\n",
    "        buff_dict = {}\n",
    "        for i in range(len(nums)):\n",
    "            print i,nums[i],buff_dict,target-nums[i]\n",
    "            if nums[i] in buff_dict:\n",
    "                return [buff_dict[nums[i]], i]\n",
    "            else:\n",
    "                buff_dict[target - nums[i]] = i\n",
    "S = Solution()\n",
    "r = S.two_sum([15,2,11,7,15],9)\n",
    "print r    "
   ]
  },
  {
   "cell_type": "markdown",
   "metadata": {},
   "source": [
    "# 2 Add two numbers\n",
    "给定两个非空的链表，表示两个非负整数。数字以相反的顺序存储，每个节点包含一个数字。添加两个数字并将其作为链表返回。\n",
    "\n",
    "您可以假设两个数字不包含任何前导零，除了数字0本身。\n",
    "\n",
    "输入：（2 - > 4 - > 3）+（5 - > 6 - > 4）\n",
    "输出： 7 - > 0 - > 8"
   ]
  },
  {
   "cell_type": "code",
   "execution_count": null,
   "metadata": {
    "collapsed": true
   },
   "outputs": [],
   "source": [
    "class question_two(object):\n",
    "    def "
   ]
  }
 ],
 "metadata": {
  "kernelspec": {
   "display_name": "Python 2",
   "language": "python",
   "name": "python2"
  },
  "language_info": {
   "codemirror_mode": {
    "name": "ipython",
    "version": 2
   },
   "file_extension": ".py",
   "mimetype": "text/x-python",
   "name": "python",
   "nbconvert_exporter": "python",
   "pygments_lexer": "ipython2",
   "version": "2.7.13"
  }
 },
 "nbformat": 4,
 "nbformat_minor": 2
}
