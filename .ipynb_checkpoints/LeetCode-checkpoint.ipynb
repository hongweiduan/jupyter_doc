{
 "cells": [
  {
   "cell_type": "markdown",
   "metadata": {},
   "source": [
    "# 2 \n",
    "You are given two non-empty linked lists representing two non-negative integers. The digits are stored in reverse order and each of their nodes contain a single digit. Add the two numbers and return it as a linked list.\n",
    "\n",
    "You may assume the two numbers do not contain any leading zero, except the number 0 itself.\n",
    "\n",
    "Input: (2 -> 4 -> 3) + (5 -> 6 -> 4)\n",
    "Output: 7 -> 0 -> 8"
   ]
  },
  {
   "cell_type": "code",
   "execution_count": null,
   "metadata": {
    "collapsed": true
   },
   "outputs": [],
   "source": []
  },
  {
   "cell_type": "markdown",
   "metadata": {},
   "source": [
    "# 7-Reverse Integer\n",
    "Reverse digits of an integer.\n",
    "\n",
    "Example1: x = 123, return 321\n",
    "Example2: x = -123, return -321\n",
    "\n",
    "Note:\n",
    "The input is assumed to be a 32-bit signed integer. Your function should return 0 when the reversed integer overflows."
   ]
  },
  {
   "cell_type": "code",
   "execution_count": 65,
   "metadata": {},
   "outputs": [
    {
     "name": "stdout",
     "output_type": "stream",
     "text": [
      "-746384412\n",
      "-746384412\n",
      "-746384412\n"
     ]
    }
   ],
   "source": [
    "class Solution(object):\n",
    "    def int_overflow(self,val):  \n",
    "        maxint = 2147483647  \n",
    "        if not -maxint-1 <= val <= maxint:  \n",
    "            raise ValueError,\"32_int outof range\"  \n",
    "        return val  \n",
    "    def reverse(self, x):\n",
    "        \"\"\"\n",
    "        :type x: int\n",
    "        :rtype: int\n",
    "        \"\"\"\n",
    "        if type(x)==int:\n",
    "            s_in = str(x)\n",
    "            s_out = ''\n",
    "            if s_in[0]=='-':\n",
    "                s_out = s_out+'-'\n",
    "                s_in = s_in[1:]\n",
    "            else:\n",
    "                s_out += ''\n",
    "            for i in range(len(s_in)):\n",
    "                s_out+=s_in[len(s_in)-i-1]\n",
    "            try:\n",
    "                self.int_overflow(int(s_out))\n",
    "            except:\n",
    "                return 0                \n",
    "            else:\n",
    "                return int(s_out)\n",
    "        else:\n",
    "            raise TypeError\n",
    "        \n",
    "        \n",
    "c = Solution()\n",
    "print c.reverse(-214483647)"
   ]
  }
 ],
 "metadata": {
  "kernelspec": {
   "display_name": "Python 2",
   "language": "python",
   "name": "python2"
  },
  "language_info": {
   "codemirror_mode": {
    "name": "ipython",
    "version": 2
   },
   "file_extension": ".py",
   "mimetype": "text/x-python",
   "name": "python",
   "nbconvert_exporter": "python",
   "pygments_lexer": "ipython2",
   "version": "2.7.13"
  }
 },
 "nbformat": 4,
 "nbformat_minor": 2
}
