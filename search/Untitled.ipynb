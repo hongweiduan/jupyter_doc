{
 "cells": [
  {
   "cell_type": "code",
   "execution_count": 1,
   "metadata": {
    "collapsed": true
   },
   "outputs": [],
   "source": [
    "import csv \n",
    "import pickle\n",
    "def got_data():\n",
    "    tab =[]\n",
    "    with open('data.csv', 'rb') as f:\n",
    "        reader = csv.reader(f, delimiter=':', quoting=csv.QUOTE_NONE)\n",
    "        for row in reader:\n",
    "        \tfor j in row[0].split(\",\"):\n",
    "    \t\t\ttab.insert(-1,j)\n",
    "                yield j        \n",
    "    # print (len(tab))\n",
    "    # return len(tab)\n",
    "a = got_data()"
   ]
  },
  {
   "cell_type": "code",
   "execution_count": 2,
   "metadata": {
    "collapsed": true
   },
   "outputs": [],
   "source": [
    "def basis_of_search(row_data,y):\n",
    "    if row_data == y:\n",
    "        return 1\n",
    "    else:\n",
    "        return 0"
   ]
  },
  {
   "cell_type": "code",
   "execution_count": 19,
   "metadata": {},
   "outputs": [
    {
     "name": "stdout",
     "output_type": "stream",
     "text": [
      "0\n"
     ]
    }
   ],
   "source": [
    "print basis_of_search(next(a),3)"
   ]
  }
 ],
 "metadata": {
  "kernelspec": {
   "display_name": "Python 2",
   "language": "python",
   "name": "python2"
  },
  "language_info": {
   "codemirror_mode": {
    "name": "ipython",
    "version": 2
   },
   "file_extension": ".py",
   "mimetype": "text/x-python",
   "name": "python",
   "nbconvert_exporter": "python",
   "pygments_lexer": "ipython2",
   "version": "2.7.13"
  }
 },
 "nbformat": 4,
 "nbformat_minor": 2
}
