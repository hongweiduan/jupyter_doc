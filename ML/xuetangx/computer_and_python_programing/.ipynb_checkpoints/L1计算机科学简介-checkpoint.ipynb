{
 "cells": [
  {
   "cell_type": "markdown",
   "metadata": {},
   "source": [
    "# 计算机科学简介\n",
    "## 计算机的特点\n",
    "### 优点\n",
    "- 计算  处理简单运算但是很快\n",
    "- 储存  容量大\n",
    "### 缺陷\n",
    "虽然如此，有些问题仍然无法用计算机的计算解决\n",
    "- 需要大量的计算：在互联网上搜索信息\n",
    "- 需要大量储存空间：象棋的所有对局\n",
    "- 无法用计算解决的问题：图灵停机问题（一个程序是否可以判断另一个程序一定能正常运行）\n",
    "### 练习题\n",
    "1. 算法和程序的区别：~~算法可以提高程序的运行速度~~,算法是一个概念，而程序是算法的具体实现\n",
    "2. 计算思维意味着所有问题都可以看做是一个涉及公式和数字的数学问题。\n",
    "3. 计算机科学是~~研究如何创建高效的程序运行机器~~\n",
    "4. 计算机可以做俩件事，计算和储存\n",
    "### 什么是计算\n",
    "#### 什么是知识\n",
    "- 知识分为俩类：陈述性知识和方法性知识。\n",
    "例如：求平方根问题  \n",
    "1. 概念：input y ,if x*x == y,output x\n",
    "2. 求平方根的方法：Heron"
   ]
  },
  {
   "cell_type": "code",
   "execution_count": 1,
   "metadata": {},
   "outputs": [
    {
     "data": {
      "text/plain": [
       "5.000012953048684"
      ]
     },
     "execution_count": 1,
     "metadata": {},
     "output_type": "execute_result"
    }
   ],
   "source": [
    "def get_square_root(y):\n",
    "    g = y/2.0\n",
    "    while 1:\n",
    "        if abs(g*g-y)<=0.001:\n",
    "            return g\n",
    "        g = (y/g+g)/2\n",
    "get_square_root(25)\n",
    "    "
   ]
  },
  {
   "cell_type": "markdown",
   "metadata": {},
   "source": []
  }
 ],
 "metadata": {
  "kernelspec": {
   "display_name": "Python 2",
   "language": "python",
   "name": "python2"
  },
  "language_info": {
   "codemirror_mode": {
    "name": "ipython",
    "version": 2
   },
   "file_extension": ".py",
   "mimetype": "text/x-python",
   "name": "python",
   "nbconvert_exporter": "python",
   "pygments_lexer": "ipython2",
   "version": "2.7.13"
  }
 },
 "nbformat": 4,
 "nbformat_minor": 2
}
