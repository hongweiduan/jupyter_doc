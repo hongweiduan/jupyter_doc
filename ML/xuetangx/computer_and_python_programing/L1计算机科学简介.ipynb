{
 "cells": [
  {
   "cell_type": "markdown",
   "metadata": {},
   "source": [
    "# 计算机科学简介\n",
    "## 计算机的特点\n",
    "### 优点\n",
    "- 计算  处理简单运算但是很快\n",
    "- 储存  容量大\n",
    "### 缺陷\n",
    "虽然如此，有些问题仍然无法用计算机的计算解决\n",
    "- 需要大量的计算：在互联网上搜索信息\n",
    "- 需要大量储存空间：象棋的所有对局\n",
    "- 无法用计算解决的问题：图灵停机问题（一个程序是否可以判断另一个程序一定能正常运行）\n",
    "### 练习题\n",
    "1. 算法和程序的区别：~~算法可以提高程序的运行速度~~,算法是一个概念，而程序是算法的具体实现\n",
    "2. 计算思维意味着所有问题都可以看做是一个涉及公式和数字的数学问题。\n",
    "3. 计算机科学是~~研究如何创建高效的程序运行机器~~\n",
    "4. 计算机可以做俩件事，计算和储存\n",
    "### 什么是计算\n",
    "#### 什么是知识\n",
    "- 知识分为俩类：陈述性知识和方法性知识。\n",
    "例如：求平方根问题  \n",
    "1. 概念：input y ,if x*x == y,output x\n",
    "2. 求平方根的方法：Heron"
   ]
  },
  {
   "cell_type": "code",
   "execution_count": 4,
   "metadata": {},
   "outputs": [
    {
     "name": "stdout",
     "output_type": "stream",
     "text": [
      "i is  1 ,g is  65.0\n",
      "i is  2 ,g is  34.4692307692\n",
      "i is  3 ,g is  20.9480722023\n",
      "i is  4 ,g is  16.584383572\n",
      "i is  5 ,g is  16.0102959558\n",
      "i is  6 ,g is  16.0000033106\n"
     ]
    },
    {
     "data": {
      "text/plain": [
       "16.000003310579185"
      ]
     },
     "execution_count": 4,
     "metadata": {},
     "output_type": "execute_result"
    }
   ],
   "source": [
    "def get_square_root(y):\n",
    "    g = y/2.0\n",
    "    i = 0\n",
    "    while 1:\n",
    "        if abs(g*g-y)<=0.001:\n",
    "            return g\n",
    "        g = (y/g+g)/2\n",
    "        i+=1\n",
    "        print 'i is ',i,',g is ',g\n",
    "get_square_root(256)\n",
    "    "
   ]
  },
  {
   "cell_type": "markdown",
   "metadata": {},
   "source": [
    "算法给出我们解决问题的一系列机械操作。"
   ]
  },
  {
   "cell_type": "markdown",
   "metadata": {},
   "source": [
    "# 计算机的发展\n",
    "## 固定程序计算机（Fixed Program Computers）\n",
    "用于解决特定的问题的计算机：例如计算器\n",
    "## 储存式计算机 （Stored program Computers）\n",
    "组成：CPU ALU memory \n",
    "basic primitives（原语）原语集中最少仅仅包括六条原语。\n"
   ]
  },
  {
   "cell_type": "markdown",
   "metadata": {},
   "source": [
    "## 编程语言的语法错误和语意错误\n",
    "语法错误：不符合语法，程序无法执行    \n",
    "语意错误：程序语法没问题，但是得到的结果不符合我们的预期，如出现程序崩溃，死循环，或输出不符合预期。\n",
    "\n",
    "- 语法Syntax：判断一个字串是否合法\n",
    "- 静态语义Static semantics： 判断一个字串是否有意义\n",
    "- 语义Semantics：赋予一个合法的语句意义"
   ]
  },
  {
   "cell_type": "markdown",
   "metadata": {},
   "source": [
    "# 编程基础\n",
    "低级语言：\n",
    "高级语言：\n",
    "- 对象Object\n",
    "Scalar Objects（标量对象）  \n",
    "1. int\n",
    "2. float\n",
    "3. bool\n",
    "Expressions （表达式）"
   ]
  },
  {
   "cell_type": "code",
   "execution_count": 6,
   "metadata": {},
   "outputs": [
    {
     "data": {
      "text/plain": [
       "True"
      ]
     },
     "execution_count": 6,
     "metadata": {},
     "output_type": "execute_result"
    }
   ],
   "source": [
    "4.0>3.999"
   ]
  },
  {
   "cell_type": "code",
   "execution_count": 9,
   "metadata": {},
   "outputs": [
    {
     "data": {
      "text/plain": [
       "False"
      ]
     },
     "execution_count": 9,
     "metadata": {},
     "output_type": "execute_result"
    }
   ],
   "source": [
    "5/2 == 5/2.0"
   ]
  },
  {
   "cell_type": "code",
   "execution_count": 10,
   "metadata": {},
   "outputs": [
    {
     "data": {
      "text/plain": [
       "True"
      ]
     },
     "execution_count": 10,
     "metadata": {},
     "output_type": "execute_result"
    }
   ],
   "source": [
    "5*2 == 5.0*2.0"
   ]
  },
  {
   "cell_type": "code",
   "execution_count": 11,
   "metadata": {},
   "outputs": [
    {
     "data": {
      "text/plain": [
       "3.0"
      ]
     },
     "execution_count": 11,
     "metadata": {},
     "output_type": "execute_result"
    }
   ],
   "source": [
    "round(2.6)"
   ]
  },
  {
   "cell_type": "markdown",
   "metadata": {
    "collapsed": true
   },
   "source": [
    "## 抽象化\n"
   ]
  },
  {
   "cell_type": "code",
   "execution_count": 2,
   "metadata": {},
   "outputs": [
    {
     "data": {
      "text/plain": [
       "True"
      ]
     },
     "execution_count": 2,
     "metadata": {},
     "output_type": "execute_result"
    }
   ],
   "source": [
    "b = 10\n",
    "c = b > 9\n",
    "c"
   ]
  },
  {
   "cell_type": "code",
   "execution_count": 4,
   "metadata": {},
   "outputs": [
    {
     "data": {
      "text/plain": [
       "3"
      ]
     },
     "execution_count": 4,
     "metadata": {},
     "output_type": "execute_result"
    }
   ],
   "source": [
    "a = 3\n",
    "a == 5.0\n",
    "a"
   ]
  },
  {
   "cell_type": "code",
   "execution_count": 12,
   "metadata": {},
   "outputs": [
    {
     "data": {
      "text/plain": [
       "'ab'"
      ]
     },
     "execution_count": 12,
     "metadata": {},
     "output_type": "execute_result"
    }
   ],
   "source": [
    "'abcd'[0:2]"
   ]
  },
  {
   "cell_type": "code",
   "execution_count": 24,
   "metadata": {},
   "outputs": [
    {
     "data": {
      "text/plain": [
       "'dlrowolleh'"
      ]
     },
     "execution_count": 24,
     "metadata": {},
     "output_type": "execute_result"
    }
   ],
   "source": [
    "str1 = 'hello'\n",
    "str2 = ','\n",
    "str3 = 'world'\n",
    "str4 = str1 + str3\n",
    "'low' in str4\n",
    "str4[::-1]"
   ]
  },
  {
   "cell_type": "code",
   "execution_count": 26,
   "metadata": {},
   "outputs": [
    {
     "name": "stdout",
     "output_type": "stream",
     "text": [
      "sssHowei\n"
     ]
    }
   ],
   "source": [
    "name = raw_input(\"sss\")"
   ]
  },
  {
   "cell_type": "code",
   "execution_count": 27,
   "metadata": {},
   "outputs": [
    {
     "name": "stdout",
     "output_type": "stream",
     "text": [
      "Howei\n"
     ]
    }
   ],
   "source": [
    "print(name)"
   ]
  },
  {
   "cell_type": "code",
   "execution_count": 38,
   "metadata": {},
   "outputs": [
    {
     "name": "stdout",
     "output_type": "stream",
     "text": [
      "+3\n",
      "input a number:2\n",
      "the square is：+4.00\n"
     ]
    }
   ],
   "source": [
    "# !/usr/local/python\n",
    "# *-* coding:utf-8 *-*\n",
    "def get_x_2(x):\n",
    "    return x**2\n",
    "print(\"%+2d\" % 3)\n",
    "y = raw_input(\"input a number:\")\n",
    "print (\"the square is：%+4.2f\" % get_x_2(float(y)))"
   ]
  },
  {
   "cell_type": "code",
   "execution_count": 43,
   "metadata": {},
   "outputs": [
    {
     "name": "stdout",
     "output_type": "stream",
     "text": [
      "Hot\n"
     ]
    }
   ],
   "source": [
    "temp = 120\n",
    "if temp > 85:\n",
    "   print \"Hot\"\n",
    "elif temp > 100:\n",
    "   print \"REALLY HOT!\"\n",
    "elif temp > 60:\n",
    "   print \"Comfortable\" \n",
    "else:\n",
    "   print \"Cold\""
   ]
  },
  {
   "cell_type": "code",
   "execution_count": 48,
   "metadata": {},
   "outputs": [
    {
     "name": "stdout",
     "output_type": "stream",
     "text": [
      "True\n"
     ]
    }
   ],
   "source": [
    "a = 's'\n",
    "print type(a)==type('str')"
   ]
  },
  {
   "cell_type": "markdown",
   "metadata": {},
   "source": [
    "迭代"
   ]
  }
 ],
 "metadata": {
  "kernelspec": {
   "display_name": "Python 2",
   "language": "python",
   "name": "python2"
  },
  "language_info": {
   "codemirror_mode": {
    "name": "ipython",
    "version": 2
   },
   "file_extension": ".py",
   "mimetype": "text/x-python",
   "name": "python",
   "nbconvert_exporter": "python",
   "pygments_lexer": "ipython2",
   "version": "2.7.13"
  }
 },
 "nbformat": 4,
 "nbformat_minor": 2
}
