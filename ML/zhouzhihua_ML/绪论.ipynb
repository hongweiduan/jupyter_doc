{
 "cells": [
  {
   "cell_type": "markdown",
   "metadata": {},
   "source": [
    "# 基础术语\n",
    "- 机器学习是研究“学习算法”的学问。\n",
    "1. 数据 data\n",
    "2. 数据集 data set\n",
    "3. 示例／样本 instance／sample\n",
    "4. 属性／特征 attribute／feature\n",
    "5. 属性值 attribute vaule\n",
    "6. 属性空间／样本空间／输入空间 attribute space／sample space\n",
    "7. 特征向量 feature vector\n",
    "8. 维数 dimensionality\n",
    "9. 学习／训练 learning／training\n",
    "10. 训练数据 training data\n",
    "11. 训练样本 training sample\n",
    "12. 训练集 training set\n",
    "13. 假设 hypothesis\n",
    "14. 预测 prediction\n",
    "15. 标记 label\n",
    "16. 样例 example\n",
    "17. 分类 classification\n",
    "18. 回归 regression\n",
    "19. 二分类 binary classification\n",
    "20. 正类 positive class 反类 negative class\n",
    "21. 多分类 multi-class classification\n",
    "22. 聚类 clustering\n",
    "23. 簇 cluster \n",
    "24. 监督学习 supervised learning<包括回归和分类> 无监督学习 unsupervised learning<聚类> \n",
    "25. 泛化 generalization\n",
    "26. 独立同分布 independent and identically distributed {i.i.d.}\n"
   ]
  }
 ],
 "metadata": {
  "kernelspec": {
   "display_name": "Python 2",
   "language": "python",
   "name": "python2"
  },
  "language_info": {
   "codemirror_mode": {
    "name": "ipython",
    "version": 2
   },
   "file_extension": ".py",
   "mimetype": "text/x-python",
   "name": "python",
   "nbconvert_exporter": "python",
   "pygments_lexer": "ipython2",
   "version": "2.7.13"
  }
 },
 "nbformat": 4,
 "nbformat_minor": 2
}
