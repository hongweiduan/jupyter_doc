{
 "cells": [
  {
   "cell_type": "code",
   "execution_count": 3,
   "metadata": {
    "collapsed": true
   },
   "outputs": [],
   "source": [
    "import numpy as np\n",
    "class Perceptron(object):\n",
    "    '''\n",
    "    eta: 学习率\n",
    "    n_iter: 权重向量的训练次数\n",
    "    w_: 神经分叉权重向量\n",
    "    errors_: 用于记录神经元判断错误的次数\n",
    "    '''\n",
    "    def __init__(self,eta = 0.01, n_iter=10):\n",
    "        self.eta = eta\n",
    "        self.n_iter =n_iter\n",
    "        pass\n",
    "    \"\"\"\n",
    "    神经网络：\n",
    "    z = x0*w0+x1*w1+x2*w2+...\n",
    "    阈值更新：\n",
    "    w_ = eta*(y'-y)x+w_\n",
    "    \"\"\"\n",
    "    def fit(self,x,y):\n",
    "        \"\"\"\n",
    "        输入训练的数据，培训神经元，x表示输入的样本向量，y表示样本对应的正确分类\n",
    "        X：shape[n_sample,n_features]\n",
    "        n_sample 表示样本的数量，n_features表示样本的特征数\n",
    "        y:[1,-1]\n",
    "        \"\"\"\n",
    "        \"\"\"\n",
    "        初始化权重向量为0\n",
    "        w_ 的shape 为x_features+1，加一是因为包括函数阈值W0\n",
    "        \"\"\"\n",
    "        self.w_ = np.zero(x.shape[1]+1)\n",
    "        self.errors_ = []\n",
    "        for _ in range(self.n_iter):\n",
    "            errors = 0\n",
    "            for xi,target in zip(self.x,self.y):\n",
    "                update = self.eta*(target-self.predict(xi))\n",
    "                self.w_[1:] += update*xi\n",
    "                self.w_[0]  += update\n",
    "                errors += int(update <> 0.0)\n",
    "                self.errors_.append(errors)\n",
    "    def net_input(self,x):\n",
    "        \"\"\"\n",
    "        \n",
    "        \"\"\"\n",
    "        return np.dot(x,self.w_[1:])+self.w_[0]\n",
    "    def predict(self,x):\n",
    "        return np.where(self.net_input(x) >= 0.0 ,1,-1)\n",
    "    "
   ]
  },
  {
   "cell_type": "code",
   "execution_count": 51,
   "metadata": {},
   "outputs": [
    {
     "data": {
      "text/html": [
       "<div>\n",
       "<style>\n",
       "    .dataframe thead tr:only-child th {\n",
       "        text-align: right;\n",
       "    }\n",
       "\n",
       "    .dataframe thead th {\n",
       "        text-align: left;\n",
       "    }\n",
       "\n",
       "    .dataframe tbody tr th {\n",
       "        vertical-align: top;\n",
       "    }\n",
       "</style>\n",
       "<table border=\"1\" class=\"dataframe\">\n",
       "  <thead>\n",
       "    <tr style=\"text-align: right;\">\n",
       "      <th></th>\n",
       "      <th>0</th>\n",
       "      <th>1</th>\n",
       "      <th>2</th>\n",
       "      <th>3</th>\n",
       "      <th>4</th>\n",
       "    </tr>\n",
       "  </thead>\n",
       "  <tbody>\n",
       "    <tr>\n",
       "      <th>0</th>\n",
       "      <td>5.1</td>\n",
       "      <td>3.5</td>\n",
       "      <td>1.4</td>\n",
       "      <td>0.2</td>\n",
       "      <td>Iris-setosa</td>\n",
       "    </tr>\n",
       "    <tr>\n",
       "      <th>1</th>\n",
       "      <td>4.9</td>\n",
       "      <td>3.0</td>\n",
       "      <td>1.4</td>\n",
       "      <td>0.2</td>\n",
       "      <td>Iris-setosa</td>\n",
       "    </tr>\n",
       "    <tr>\n",
       "      <th>2</th>\n",
       "      <td>4.7</td>\n",
       "      <td>3.2</td>\n",
       "      <td>1.3</td>\n",
       "      <td>0.2</td>\n",
       "      <td>Iris-setosa</td>\n",
       "    </tr>\n",
       "    <tr>\n",
       "      <th>3</th>\n",
       "      <td>4.6</td>\n",
       "      <td>3.1</td>\n",
       "      <td>1.5</td>\n",
       "      <td>0.2</td>\n",
       "      <td>Iris-setosa</td>\n",
       "    </tr>\n",
       "    <tr>\n",
       "      <th>4</th>\n",
       "      <td>5.0</td>\n",
       "      <td>3.6</td>\n",
       "      <td>1.4</td>\n",
       "      <td>0.2</td>\n",
       "      <td>Iris-setosa</td>\n",
       "    </tr>\n",
       "  </tbody>\n",
       "</table>\n",
       "</div>"
      ],
      "text/plain": [
       "     0    1    2    3            4\n",
       "0  5.1  3.5  1.4  0.2  Iris-setosa\n",
       "1  4.9  3.0  1.4  0.2  Iris-setosa\n",
       "2  4.7  3.2  1.3  0.2  Iris-setosa\n",
       "3  4.6  3.1  1.5  0.2  Iris-setosa\n",
       "4  5.0  3.6  1.4  0.2  Iris-setosa"
      ]
     },
     "execution_count": 51,
     "metadata": {},
     "output_type": "execute_result"
    }
   ],
   "source": [
    "file_ = \"iris.csv\"\n",
    "import pandas as pd\n",
    "df = pd.read_csv(file_,header=None)\n",
    "df.head()"
   ]
  },
  {
   "cell_type": "code",
   "execution_count": 54,
   "metadata": {},
   "outputs": [
    {
     "name": "stdout",
     "output_type": "stream",
     "text": [
      "[-1 -1 -1 -1 -1 -1 -1 -1 -1 -1 -1 -1 -1 -1 -1 -1 -1 -1 -1 -1 -1 -1 -1 -1 -1\n",
      " -1 -1 -1 -1 -1 -1 -1 -1 -1 -1 -1 -1 -1 -1 -1 -1 -1 -1 -1 -1 -1 -1 -1 -1 -1\n",
      "  1  1  1  1  1  1  1  1  1  1  1  1  1  1  1  1  1  1  1  1  1  1  1  1  1\n",
      "  1  1  1  1  1  1  1  1  1  1  1  1  1  1  1  1  1  1  1  1  1  1  1  1  1\n",
      "  1]\n"
     ]
    },
    {
     "data": {
      "text/plain": [
       "<matplotlib.collections.PathCollection at 0x117ab9a10>"
      ]
     },
     "execution_count": 54,
     "metadata": {},
     "output_type": "execute_result"
    }
   ],
   "source": [
    "import matplotlib.pyplot as plt\n",
    "import numpy as np\n",
    "y = df.loc[0:100,4].values\n",
    "y = np.where(y==\"Iris-setosa\",-1,1)\n",
    "x = df.iloc[0:100,[0,2]].values\n",
    "# plt.scatter(x[:50,0],x[:50,1],color='red',marker='o',label='setosa')\n",
    "print y\n",
    "plt.scatter(x[:9,0],x[:9,1],color='red',marker='o',label='setosa')\n"
   ]
  },
  {
   "cell_type": "code",
   "execution_count": 53,
   "metadata": {},
   "outputs": [
    {
     "name": "stdout",
     "output_type": "stream",
     "text": [
      "[[ 5.1  1.4]\n",
      " [ 4.9  1.4]\n",
      " [ 4.7  1.3]\n",
      " [ 4.6  1.5]\n",
      " [ 5.   1.4]\n",
      " [ 5.4  1.7]\n",
      " [ 4.6  1.4]\n",
      " [ 5.   1.5]\n",
      " [ 4.4  1.4]\n",
      " [ 4.9  1.5]\n",
      " [ 5.4  1.5]\n",
      " [ 4.8  1.6]\n",
      " [ 4.8  1.4]\n",
      " [ 4.3  1.1]\n",
      " [ 5.8  1.2]\n",
      " [ 5.7  1.5]\n",
      " [ 5.4  1.3]]\n"
     ]
    },
    {
     "data": {
      "image/png": "[encoded data removed]",
      "text/plain": [
       "<matplotlib.figure.Figure at 0x1178a68d0>"
      ]
     },
     "metadata": {},
     "output_type": "display_data"
    }
   ],
   "source": [
    "import matplotlib.pyplot as plt\n",
    "import numpy as np\n",
    "\n",
    "y = df.loc[0:100,2].values\n",
    "y = np.where(y==1, 2,-2)\n",
    "\n",
    "X=df.iloc[0:17, [0,2]].values\n",
    "print X\n",
    "\n",
    "plt.scatter(X[:9,0],X[:9,1],color='red',marker='o',label='setosa')\n",
    "plt.scatter(X[9:17, 0], X[9:17,1], color='blue', marker='+', label='rating')\n",
    "plt.xlabel(\"Length of Petal\")\n",
    "plt.ylabel(\"Length of Scape\")\n",
    "plt.legend(loc='upper left')\n",
    "plt.show()"
   ]
  }
 ],
 "metadata": {
  "kernelspec": {
   "display_name": "Python 2",
   "language": "python",
   "name": "python2"
  },
  "language_info": {
   "codemirror_mode": {
    "name": "ipython",
    "version": 2
   },
   "file_extension": ".py",
   "mimetype": "text/x-python",
   "name": "python",
   "nbconvert_exporter": "python",
   "pygments_lexer": "ipython2",
   "version": "2.7.13"
  }
 },
 "nbformat": 4,
 "nbformat_minor": 2
}
