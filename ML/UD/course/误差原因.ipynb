{
 "cells": [
  {
   "cell_type": "markdown",
   "metadata": {},
   "source": [
    "# 误差产生的原因\n",
    "1. 由于模型无法表示基本数据的复杂度而造成的偏差（bias）\n",
    "2. 由于模型对训练数据的过度敏感造成的方差（variance）\n",
    "\n",
    "# 欠拟合（undercutting）\n",
    "数据的复杂度不够，会存在精度不够的结果  \n",
    "\n",
    "# 过拟合（overfitting）\n",
    "数据来自较大训练集的有限数据，方差过高导致模型无法泛化到更多的数据中去。可以利用**更多的数据**或**限制模型的复杂度**去训练模型，达到降低方差，提高泛化的效果。"
   ]
  },
  {
   "cell_type": "markdown",
   "metadata": {},
   "source": [
    "http://scott.fortmann-roe.com/docs/BiasVariance.html"
   ]
  },
  {
   "cell_type": "markdown",
   "metadata": {},
   "source": [
    "![Image](Fig.1.png)"
   ]
  },
  {
   "cell_type": "code",
   "execution_count": null,
   "metadata": {
    "collapsed": true
   },
   "outputs": [],
   "source": []
  }
 ],
 "metadata": {
  "kernelspec": {
   "display_name": "Python 2",
   "language": "python",
   "name": "python2"
  },
  "language_info": {
   "codemirror_mode": {
    "name": "ipython",
    "version": 2
   },
   "file_extension": ".py",
   "mimetype": "text/x-python",
   "name": "python",
   "nbconvert_exporter": "python",
   "pygments_lexer": "ipython2",
   "version": "2.7.13"
  }
 },
 "nbformat": 4,
 "nbformat_minor": 2
}
