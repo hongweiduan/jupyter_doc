{
 "cells": [
  {
   "cell_type": "markdown",
   "metadata": {},
   "source": [
    "# lesson 25 评估指标\n",
    "\n",
    "## 分类\n",
    "### 分类的指标\n",
    "准确率、精准率、召回率、F分数。\n",
    "### 混淆矩阵\n",
    "### 精确率(precision)和召回率(recall)\n",
    "精确率是相对于预测结果而言，表示预测为正的结果中多少是真正的正样本。\n",
    "召回率是相对于样本本身而言的，表示实际为正的结果中多少预测为正。\n",
    "### 准确率(accuracy)\n",
    "准确率表示预测正确的样本占总样本的比例\n",
    "### TP FP FN\n",
    "- True Positives 真预测值\n",
    "- False Positives 假预测值\n",
    "- False negatives 假负值（实际为正值)  \n",
    "$ precision=\\frac{TP}{TP+FP}$  \n",
    "$ recall=\\frac{TP}{TP+FN}$  \n",
    "### F1分数\n",
    "$ F1=\\frac{2*precision*recall}{precision+recall}$\n",
    "## 回归\n",
    "### 回归的指标\n",
    "平均绝对误差、均方差"
   ]
  },
  {
   "cell_type": "code",
   "execution_count": null,
   "metadata": {
    "collapsed": true
   },
   "outputs": [],
   "source": []
  }
 ],
 "metadata": {
  "kernelspec": {
   "display_name": "Python 2",
   "language": "python",
   "name": "python2"
  },
  "language_info": {
   "codemirror_mode": {
    "name": "ipython",
    "version": 2
   },
   "file_extension": ".py",
   "mimetype": "text/x-python",
   "name": "python",
   "nbconvert_exporter": "python",
   "pygments_lexer": "ipython2",
   "version": "2.7.13"
  }
 },
 "nbformat": 4,
 "nbformat_minor": 2
}
