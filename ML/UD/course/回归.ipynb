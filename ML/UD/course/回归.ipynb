{
 "cells": [
  {
   "cell_type": "markdown",
   "metadata": {},
   "source": [
    "# 课程19:回归regression\n",
    "## 连续还是离散\n",
    "- 连续：如果输出是有顺序的，且数字之间有相应的大小关系，如收入，年龄等\n",
    "- 离散：输出是无序的，没有可比较性或不是数字，例如 天气，手机号码等"
   ]
  },
  {
   "cell_type": "code",
   "execution_count": 1,
   "metadata": {},
   "outputs": [
    {
     "data": {
      "text/plain": [
       "6.25"
      ]
     },
     "execution_count": 1,
     "metadata": {},
     "output_type": "execute_result"
    }
   ],
   "source": [
    "50/8.0"
   ]
  },
  {
   "cell_type": "markdown",
   "metadata": {},
   "source": [
    "## 线性回归\n",
    "- 斜率与截距\n",
    "y= m*x + b\n"
   ]
  },
  {
   "cell_type": "code",
   "execution_count": 2,
   "metadata": {},
   "outputs": [
    {
     "data": {
      "text/plain": [
       "225.0"
      ]
     },
     "execution_count": 2,
     "metadata": {},
     "output_type": "execute_result"
    }
   ],
   "source": [
    "36*6.25"
   ]
  },
  {
   "cell_type": "markdown",
   "metadata": {},
   "source": [
    "### 最小二乘法解决线性拟合问题\n",
    "拟合函数为：$y(w,x)=w_0+w_1x_1+...+w_px_p$\n",
    "其中$w = (w_1,...,w_p)$为斜率coef_,$w_0$为截距intercept_\n",
    "\n",
    "为了求得截距和斜率，需要使损耗函数的取值最小。\n",
    "$min_w||X_w-y||_2^2$"
   ]
  },
  {
   "cell_type": "code",
   "execution_count": 5,
   "metadata": {},
   "outputs": [
    {
     "data": {
      "text/plain": [
       "array([-1.])"
      ]
     },
     "execution_count": 5,
     "metadata": {},
     "output_type": "execute_result"
    }
   ],
   "source": [
    "from sklearn import linear_model\n",
    "reg = linear_model.LinearRegression()\n",
    "# reg.fit([1,2,3],[3,2,1]) #This is a wrong e.g.  features must be an array\n",
    "reg.fit([[1],[2],[3]],[3,2,1])\n",
    "reg.coef_"
   ]
  },
  {
   "cell_type": "markdown",
   "metadata": {},
   "source": [
    "- numpy.newaxis 用于给数组增加一个一维的维度"
   ]
  },
  {
   "cell_type": "code",
   "execution_count": 20,
   "metadata": {},
   "outputs": [
    {
     "name": "stdout",
     "output_type": "stream",
     "text": [
      "shape of x1 is  (3,)\n",
      "[ 10.  20.  30.]\n",
      "shape of x2 is  (3, 1)\n",
      "[[ 10.]\n",
      " [ 20.]\n",
      " [ 30.]]\n",
      "shape of x3 is  (1, 3)\n",
      "[[ 10.  20.  30.]]\n",
      "shape of x4 is  (1, 3, 1)\n",
      "[[[ 10.]\n",
      "  [ 20.]\n",
      "  [ 30.]]]\n"
     ]
    }
   ],
   "source": [
    "import numpy as np\n",
    "x1 = np.array([10, 20, 30], float)\n",
    "print \"shape of x1 is \", x1.shape\n",
    "print x1\n",
    "\n",
    "x2 = x1[:, np.newaxis] # This is important,can make shape(n,)--> shape(n,1)\n",
    "print \"shape of x2 is \", x2.shape\n",
    "print x2\n",
    "\n",
    "x3 = x1[np.newaxis, :]\n",
    "print \"shape of x3 is \", x3.shape\n",
    "print x3\n",
    "\n",
    "x4 = x2[np.newaxis, :,:]\n",
    "print \"shape of x4 is \", x4.shape\n",
    "print x4"
   ]
  },
  {
   "cell_type": "code",
   "execution_count": 56,
   "metadata": {},
   "outputs": [
    {
     "name": "stdout",
     "output_type": "stream",
     "text": [
      "('the coef is :', 938.23786125126287, 'the intercept is : ', 152.91886182616167)\n"
     ]
    },
    {
     "data": {
      "image/png": "[encoded data removed]",
      "text/plain": [
       "<matplotlib.figure.Figure at 0x10f366e90>"
      ]
     },
     "metadata": {},
     "output_type": "display_data"
    }
   ],
   "source": [
    "import matplotlib.pyplot as plt\n",
    "import numpy as np\n",
    "from sklearn import datasets,linear_model\n",
    "# load the data\n",
    "diabetes = datasets.load_diabetes()\n",
    "# print diabetes\n",
    "diabetes_X = diabetes['data'][:,2][:,np.newaxis]\n",
    "# print diabetes_X\n",
    "# set train sets and test sets\n",
    "diabetes_X_train = diabetes_X[:-20]\n",
    "diabetes_X_test = diabetes_X[-20:]\n",
    "diabetes_y_train = diabetes.target[:-20]\n",
    "diabetes_y_test = diabetes.target[-20:]\n",
    "# train the model\n",
    "reg = linear_model.LinearRegression()\n",
    "reg.fit(diabetes_X_train,diabetes_y_train)\n",
    "print ('the coef is :',reg.coef_[0],'the intercept is : ',reg.intercept_)\n",
    "# score is 0.4725\n",
    "reg.score(diabetes_X_test,diabetes_y_test)\n",
    "# plot out puts\n",
    "reg.predict([[0.00]])\n",
    "plt.scatter(diabetes_X_train,diabetes_y_train,color = 'black')\n",
    "plt.scatter(diabetes_X_test,diabetes_y_test,color = 'red')\n",
    "plt.plot(diabetes_X_test,reg.predict(diabetes_X_test),color = 'blue',linewidth=3)\n",
    "plt.yticks(tuple(x for x in range(0,400,50)))\n",
    "plt.xlabel(\"X\")\n",
    "plt.ylabel('y')\n",
    "plt.show()"
   ]
  },
  {
   "cell_type": "markdown",
   "metadata": {},
   "source": [
    "- ordinary least squares(OLS)最小二乘法 sklearn中使用的\n",
    "- gradient descent 梯度下降法\n"
   ]
  },
  {
   "cell_type": "markdown",
   "metadata": {},
   "source": [
    "### 多元回归练习题"
   ]
  },
  {
   "cell_type": "code",
   "execution_count": 67,
   "metadata": {},
   "outputs": [
    {
     "name": "stdout",
     "output_type": "stream",
     "text": [
      "y=5.0X(1)+2.5X(2)+-200.0\n"
     ]
    }
   ],
   "source": [
    "from sklearn import linear_model\n",
    "reg = linear_model.LinearRegression()\n",
    "x_train = [[m,n] for m in range(20,80,20) for n in range(80,140,20)]\n",
    "# print x_age\n",
    "y_train = [n for n in range(100,250,50)]+[n for n in range(200,350,50)]+[n for n in range(300,450,50)]\n",
    "# print y_train\n",
    "reg.fit(x_train,y_train)\n",
    "print 'y='+str(reg.coef_[0])+'X(1)+'+str(reg.coef_[1])+'X(2)+'+str(reg.intercept_)"
   ]
  },
  {
   "cell_type": "code",
   "execution_count": 68,
   "metadata": {},
   "outputs": [
    {
     "name": "stdout",
     "output_type": "stream",
     "text": [
      "y=1.0X(1)+-10.0X(2)+500.0\n"
     ]
    }
   ],
   "source": [
    "from sklearn import linear_model\n",
    "reg = linear_model.LinearRegression()\n",
    "x_train = [[m,n] for m in range(500,1501,500) for n in range(0,41,20)]\n",
    "# print x_age\n",
    "y_train = [n for n in range(1000,590,-200)]+[n for n in range(1500,1000,-200)]+[n for n in range(2000,1500,-200)]\n",
    "# print y_train\n",
    "reg.fit(x_train,y_train)\n",
    "print 'y='+str(reg.coef_[0])+'X(1)+'+str(reg.coef_[1])+'X(2)+'+str(reg.intercept_)"
   ]
  },
  {
   "cell_type": "code",
   "execution_count": null,
   "metadata": {
    "collapsed": true
   },
   "outputs": [],
   "source": []
  }
 ],
 "metadata": {
  "kernelspec": {
   "display_name": "Python 2",
   "language": "python",
   "name": "python2"
  },
  "language_info": {
   "codemirror_mode": {
    "name": "ipython",
    "version": 2
   },
   "file_extension": ".py",
   "mimetype": "text/x-python",
   "name": "python",
   "nbconvert_exporter": "python",
   "pygments_lexer": "ipython2",
   "version": "2.7.13"
  }
 },
 "nbformat": 4,
 "nbformat_minor": 2
}
