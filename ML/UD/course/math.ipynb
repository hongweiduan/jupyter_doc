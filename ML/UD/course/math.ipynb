{
 "cells": [
  {
   "cell_type": "markdown",
   "metadata": {},
   "source": [
    "# 机器学习基础"
   ]
  },
  {
   "cell_type": "markdown",
   "metadata": {},
   "source": [
    "## 数据的中心\n",
    "### 众数 Mode\n",
    "分布最多的数据\n",
    "- 可以在直方图上很容易低找到\n",
    "- 没有固定的计算公式\n",
    "### 平均数 Mean\n",
    "- 固定的公式\n",
    "- 如果数据集中有值变化，它一定变化\n",
    "- 不受组距变化的影响\n",
    "### 中位数 Median\n",
    "按顺序排列在一起的一组数据中居于中间位置的数\n",
    "- 有固定的公式 `x_(n+1)2` 和`(x_(n/2) +x_(n/2+1))/2`\n",
    "- 不容易受到异常值的影响\n",
    "- 不受到组距的变化的影响"
   ]
  },
  {
   "cell_type": "markdown",
   "metadata": {},
   "source": [
    "### 值域\n",
    "极大值和极小值的差值\n",
    "- 会收到异常值的干扰\n",
    "### IQR 四分位距／四分差\n",
    "四分之一点与四分之三点的差值\n",
    "- IQR受异常值的影响较小\n",
    "- 可以通过IQR定义正常值的范围（Q1-1.5*IQR<x<Q3+1.5*IQR）\n",
    "### 平均偏差\n",
    "- 没有意义\n",
    "### 标准差\n",
    "- 对于正态分布中：平均值+-一个标准差的范围内包括68%的样本，2西格玛包括95%的样本\n",
    "\n",
    "### 方差\n"
   ]
  },
  {
   "cell_type": "code",
   "execution_count": 5,
   "metadata": {
    "collapsed": true,
    "scrolled": true
   },
   "outputs": [],
   "source": [
    "sample  = [33219,36254,38801,46335,46840,47596,55130,56863,78070,88830]\n",
    "def get_sum(tab):\n",
    "    t_sum = 0.0\n",
    "    for i in range(len(tab)):\n",
    "        t_sum += tab[i]\n",
    "    return t_sum\n",
    "def get_mean(tab):\n",
    "    t_sum = get_sum(tab)\n",
    "    return t_sum/len(tab)\n",
    "# get_sum(sample)/len(sample)\n",
    "# print get_mean(sample)     \n",
    "def get_deviations_from_mean(i,tab):\n",
    "    mean = get_mean(tab)\n",
    "#     print tab[i-1]\n",
    "    return tab[i-1]-mean\n",
    "# print get_deviations_from_mean(1,sample)\n",
    "# print get_deviations_from_mean(4,sample)\n",
    "# print get_deviations_from_mean(10,sample)\n",
    "def get_average_deviation(tab):\n",
    "    _tab=[]\n",
    "    for i in range(len(tab)):\n",
    "#         pass\n",
    "#         i+=1\n",
    "        _tab.insert(0,get_deviations_from_mean(i+1,tab))\n",
    "#     print _tab\n",
    "    return get_mean(_tab)\n",
    "get_average_deviation(sample)\n",
    "def get_absolute(value):\n",
    "    if value >=0:\n",
    "        return value\n",
    "    else:\n",
    "        return -value\n",
    "def get_average_absolute_deviation(tab):\n",
    "    _tab=[]\n",
    "    for i in range(len(tab)):\n",
    "        _tab.insert(0,get_absolute(get_deviations_from_mean(i+1,tab)))\n",
    "    return get_mean(_tab)    \n",
    "get_average_absolute_deviation(sample)\n",
    "\n",
    "def get_squared_deviations(i,tab):\n",
    "    return get_deviations_from_mean(i,tab)**2\n",
    "get_squared_deviations(8,sample)\n",
    "def get_variance(tab):\n",
    "    _tab = []\n",
    "    for i in range(len(tab)):\n",
    "        _tab.insert(i,get_squared_deviations(i+1,tab))\n",
    "    return get_mean(_tab)\n",
    "get_variance(sample)\n",
    "import math\n",
    "def get_standard_deviation(tab):\n",
    "    return math.sqrt(get_variance(tab))\n",
    "# print sample\n",
    "def get_bessel_correction_standard_deviation(tab):\n",
    "    _tab=[]\n",
    "    for i in range(len(tab)):\n",
    "        _tab.insert(i,get_squared_deviations(i+1,tab))\n",
    "    return math.sqrt(get_mean(_tab)*len(_tab)/(len(_tab)-1))\n"
   ]
  },
  {
   "cell_type": "code",
   "execution_count": 6,
   "metadata": {
    "scrolled": true
   },
   "outputs": [
    {
     "data": {
      "text/plain": [
       "2.6034165586355518"
      ]
     },
     "execution_count": 6,
     "metadata": {},
     "output_type": "execute_result"
    }
   ],
   "source": [
    "sample_9_37=[18,20,21,18,23,15,17,22,21]\n",
    "get_standard_deviation(sample_9_37)\n",
    "get_bessel_correction_standard_deviation(sample_9_37)"
   ]
  },
  {
   "cell_type": "markdown",
   "metadata": {},
   "source": [
    "## 监督学习\n",
    "根据已有的"
   ]
  }
 ],
 "metadata": {
  "kernelspec": {
   "display_name": "Python 2",
   "language": "python",
   "name": "python2"
  },
  "language_info": {
   "codemirror_mode": {
    "name": "ipython",
    "version": 2
   },
   "file_extension": ".py",
   "mimetype": "text/x-python",
   "name": "python",
   "nbconvert_exporter": "python",
   "pygments_lexer": "ipython2",
   "version": "2.7.13"
  }
 },
 "nbformat": 4,
 "nbformat_minor": 2
}
