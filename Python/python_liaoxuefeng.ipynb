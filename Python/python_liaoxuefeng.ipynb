{
 "cells": [
  {
   "cell_type": "code",
   "execution_count": 2,
   "metadata": {},
   "outputs": [
    {
     "data": {
      "text/plain": [
       "'1'"
      ]
     },
     "execution_count": 2,
     "metadata": {},
     "output_type": "execute_result"
    }
   ],
   "source": [
    "import re\n",
    "re.match(r'\\d+\\-\\d+','001-2035632').group()\n",
    "p = re.compile(r'\\d')\n",
    "a = p.match('193')\n",
    "a.group()"
   ]
  },
  {
   "cell_type": "markdown",
   "metadata": {},
   "source": [
    "请尝试写一个验证Email地址的正则表达式。版本一应该可以验证出类似的Email：\n",
    "\n",
    "`someone@gmail.com`\n",
    "`bill.gates@microsoft.com`\n",
    "\n",
    "版本二可以验证并提取出带名字的Email地址：\n",
    "\n",
    "`<Tom Paris> tom@voyager.org`"
   ]
  },
  {
   "cell_type": "code",
   "execution_count": 3,
   "metadata": {},
   "outputs": [
    {
     "name": "stdout",
     "output_type": "stream",
     "text": [
      "<Tom Paris> tom@voyager.com\n"
     ]
    }
   ],
   "source": [
    "s1 = 'someone@gmail.com'\n",
    "s2 = 'bill.gat1es@microsoft.com'\n",
    "s3 = '<Tom Paris> tom@voyager.com'\n",
    "v1 = re.compile(r'\\w+\\@\\w+\\.\\w+')\n",
    "v2 = re.compile(r'[\\S]+\\@\\w+\\.\\w+')\n",
    "v3 = re.compile(r'(\\<\\w+\\s+\\w+\\>\\s+){0,1}[\\S]+\\@\\w+\\.\\w+')\n",
    "print v3.match(s3).group()"
   ]
  },
  {
   "cell_type": "markdown",
   "metadata": {
    "collapsed": true
   },
   "source": [
    "## 生成器generator\n",
    "列表生成式：可以创建整个列表，但是会占用大量的内存，\n",
    "\n",
    "生成器：只有在使用时才会去调用计算\n",
    "\n",
    "可以使用俩中方法：1.将列表生成式的[]该为(),2使用关键字yield"
   ]
  },
  {
   "cell_type": "code",
   "execution_count": 32,
   "metadata": {},
   "outputs": [
    {
     "name": "stdout",
     "output_type": "stream",
     "text": [
      "[0, 1, 0, 1, 0, 1, 0, 1, 0, 1]\n",
      "<generator object <genexpr> at 0x1042ede10>\n"
     ]
    },
    {
     "data": {
      "text/plain": [
       "1"
      ]
     },
     "execution_count": 32,
     "metadata": {},
     "output_type": "execute_result"
    }
   ],
   "source": [
    "# 1. 修改列表生成式\n",
    "L = [x%2 for x in range(10)]\n",
    "print L\n",
    "g = (x%2 for x in range(10))\n",
    "print g\n",
    "next(g)\n",
    "next(g)"
   ]
  },
  {
   "cell_type": "code",
   "execution_count": 45,
   "metadata": {},
   "outputs": [
    {
     "name": "stdout",
     "output_type": "stream",
     "text": [
      "a is 0\n",
      "a is 1\n",
      "a is 3\n",
      "a is 6\n",
      "a is 10\n",
      "a is 15\n",
      "a is 21\n",
      "a is 28\n",
      "a is 36\n",
      "a is 45\n",
      "a is 55\n",
      "a is 66\n",
      "a is 78\n"
     ]
    }
   ],
   "source": [
    "def doo(s):\n",
    "    x = 0\n",
    "    y = 0\n",
    "#     s = 0\n",
    "    for x in range(s):\n",
    "        y = x+y\n",
    "#         s += 1\n",
    "        yield(y)\n",
    "a = doo(13)\n",
    "# print next(a)\n",
    "# print next(a)\n",
    "for i in a:\n",
    "    print \"a is \"+str(i)"
   ]
  },
  {
   "cell_type": "code",
   "execution_count": 76,
   "metadata": {
    "scrolled": false
   },
   "outputs": [
    {
     "name": "stdout",
     "output_type": "stream",
     "text": [
      "[1]\n",
      "[1, 1]\n",
      "[1, 2, 1]\n",
      "[1, 3, 3, 1]\n",
      "[1, 4, 6, 4, 1]\n",
      "[1, 5, 10, 10, 5, 1]\n",
      "[1, 6, 15, 20, 15, 6, 1]\n",
      "[1, 7, 21, 35, 35, 21, 7, 1]\n",
      "[1, 8, 28, 56, 70, 56, 28, 8, 1]\n",
      "[1, 9, 36, 84, 126, 126, 84, 36, 9, 1]\n"
     ]
    }
   ],
   "source": [
    "def triangles():\n",
    "    n_ = 1\n",
    "    table_ = [1]\n",
    "    yield table_\n",
    "    table_ = [1,1]\n",
    "    n_ = 2\n",
    "    yield table_\n",
    "    while 1:\n",
    "        table__ = []\n",
    "        l = n_\n",
    "        table__.insert(0,1)\n",
    "        table__.insert(l,1)\n",
    "        for i in range(l-1):\n",
    "            table__.insert(i+1,(table_[i])+(table_[i+1]))\n",
    "        table_ = table__\n",
    "        n_ += 1\n",
    "        yield table_\n",
    "n = 0\n",
    "k = 10\n",
    "for t in triangles():\n",
    "    str_len = (k*2-1)*3\n",
    "    num_str = \"\"\n",
    "    for i in len(t):\n",
    "        num_str = num_str+\n",
    "    str_ = \n",
    "    print(t)\n",
    "    n = n + 1\n",
    "    if n == k:\n",
    "        break"
   ]
  },
  {
   "cell_type": "code",
   "execution_count": 17,
   "metadata": {},
   "outputs": [
    {
     "data": {
      "text/plain": [
       "1"
      ]
     },
     "execution_count": 17,
     "metadata": {},
     "output_type": "execute_result"
    }
   ],
   "source": [
    "from collections import Iterable\n",
    "isinstance({},Iterable)\n",
    "# a = 'abcd'\n",
    "a = {'c':1,'b':2}\n",
    "b = iter(a)\n",
    "a[b.next()]"
   ]
  },
  {
   "cell_type": "markdown",
   "metadata": {},
   "source": [
    "## 迭代器\n",
    "### 可迭代对象：Iterable\n",
    "\n",
    "1. 包含的种类：集合数据类型，包括list，tuple，dict，set，str等；generator 包括生成器和带yield的generator function。\n",
    "2. Iterator 迭代器，可以被next()调用，generator是Iterator，但是list，dict等是Iterable，而不是Iterator,可以通过iter()函数将list转变成迭代器。"
   ]
  },
  {
   "cell_type": "markdown",
   "metadata": {},
   "source": [
    "函数式编程，允许将函数作为变量传入函数，也允许函数的作为输入"
   ]
  },
  {
   "cell_type": "markdown",
   "metadata": {},
   "source": [
    "## 高阶函数\n",
    "- 变量可以指向函数\n",
    "- 函数名也是变量\n",
    "- 函数可以接受另一个函数作为参数"
   ]
  },
  {
   "cell_type": "code",
   "execution_count": 21,
   "metadata": {},
   "outputs": [
    {
     "name": "stdout",
     "output_type": "stream",
     "text": [
      "10\n"
     ]
    },
    {
     "data": {
      "text/plain": [
       "9.0"
      ]
     },
     "execution_count": 21,
     "metadata": {},
     "output_type": "execute_result"
    }
   ],
   "source": [
    "print abs(-10)\n",
    "a = abs\n",
    "a(-1)\n",
    "def add(a,b,f):\n",
    "    return f(a)+f(b)\n",
    "\n",
    "add(4,5,float)"
   ]
  },
  {
   "cell_type": "code",
   "execution_count": 22,
   "metadata": {},
   "outputs": [
    {
     "data": {
      "text/plain": [
       "35"
      ]
     },
     "execution_count": 22,
     "metadata": {},
     "output_type": "execute_result"
    }
   ],
   "source": [
    "add (-1,34,abs)"
   ]
  },
  {
   "cell_type": "markdown",
   "metadata": {},
   "source": [
    "### map and reduce\n",
    "- map(function,Iterable)-->Iterator"
   ]
  },
  {
   "cell_type": "code",
   "execution_count": 23,
   "metadata": {},
   "outputs": [
    {
     "data": {
      "text/plain": [
       "[1, 1, 1, 1]"
      ]
     },
     "execution_count": 23,
     "metadata": {},
     "output_type": "execute_result"
    }
   ],
   "source": [
    "list(map(abs,[1,-1,-1,1]))"
   ]
  },
  {
   "cell_type": "markdown",
   "metadata": {},
   "source": [
    "- reduce(f,[x1,x2,x3]) = f(f(x1,x2),x3),x4)"
   ]
  },
  {
   "cell_type": "code",
   "execution_count": 32,
   "metadata": {},
   "outputs": [
    {
     "data": {
      "text/plain": [
       "654321"
      ]
     },
     "execution_count": 32,
     "metadata": {},
     "output_type": "execute_result"
    }
   ],
   "source": [
    "from functools import reduce\n",
    "n = 0\n",
    "def fn(x,y):\n",
    "    global n\n",
    "    n+=1\n",
    "    return y*(10**n)+x\n",
    "reduce(fn,[1,2,3,4,5,6])\n"
   ]
  },
  {
   "cell_type": "code",
   "execution_count": 48,
   "metadata": {},
   "outputs": [
    {
     "name": "stdout",
     "output_type": "stream",
     "text": [
      "['Adam', 'Lisa', 'Howie']\n"
     ]
    }
   ],
   "source": [
    "# -*- coding: utf-8 -*-\n",
    "def normalize(name):\n",
    "#     return name[0].upper()+name[1:].lower()\n",
    "    return name.title()\n",
    "\n",
    "L1 = ['adam','LISA','Howie']\n",
    "L2 = list(map(normalize,L1))\n",
    "print L2"
   ]
  },
  {
   "cell_type": "code",
   "execution_count": 50,
   "metadata": {},
   "outputs": [
    {
     "name": "stdout",
     "output_type": "stream",
     "text": [
      "('3*5*7*9=', 945)\n"
     ]
    }
   ],
   "source": [
    "from functools import reduce\n",
    "def prod(L):\n",
    "    return reduce(lambda x,y:x*y,L)\n",
    "print ('3*5*7*9=',prod([3,5,7,9]))"
   ]
  },
  {
   "cell_type": "code",
   "execution_count": 2,
   "metadata": {},
   "outputs": [
    {
     "ename": "SyntaxError",
     "evalue": "invalid syntax (<ipython-input-2-f34ac568dfbf>, line 8)",
     "output_type": "error",
     "traceback": [
      "\u001b[0;36m  File \u001b[0;32m\"<ipython-input-2-f34ac568dfbf>\"\u001b[0;36m, line \u001b[0;32m8\u001b[0m\n\u001b[0;31m    return reduce(lambda x,y:x*10.0+y,map(lambda x:num_dict[x],s[:s.find('.')]))+reduce(lambda x,y:,map(lambda x:num_dict[x],s[:s.find('.')]))\u001b[0m\n\u001b[0m                                                                                                   ^\u001b[0m\n\u001b[0;31mSyntaxError\u001b[0m\u001b[0;31m:\u001b[0m invalid syntax\n"
     ]
    }
   ],
   "source": [
    "# *-* coding: utf-8 *-*\n",
    "from functools import reduce\n",
    "def str2float(s):\n",
    "    num_dict = {'0':0,'1':1,'2':2,'3':3,'4':4,'5':5,'6':6,'7':7,'8':8,'9':9}\n",
    "    if s.find('.') < 0:\n",
    "        return reduce(lambda x,y:x*10.0+y,map(lambda x:num_dict[x],s))\n",
    "    else:\n",
    "        return reduce(lambda x,y:x*10.0+y,map(lambda x:num_dict[x],s[:s.find('.')]))+reduce(lambda x,y:,map(lambda x:num_dict[x],s[:s.find('.')]))\n",
    "print('str2float(\\'123.456\\')=',str2float('123.456'))"
   ]
  },
  {
   "cell_type": "code",
   "execution_count": 80,
   "metadata": {},
   "outputs": [
    {
     "data": {
      "text/plain": [
       "1"
      ]
     },
     "execution_count": 80,
     "metadata": {},
     "output_type": "execute_result"
    }
   ],
   "source": [
    "a = '1.2'\n",
    "a.find('.')"
   ]
  },
  {
   "cell_type": "code",
   "execution_count": 74,
   "metadata": {},
   "outputs": [
    {
     "data": {
      "text/plain": [
       "8"
      ]
     },
     "execution_count": 74,
     "metadata": {},
     "output_type": "execute_result"
    }
   ],
   "source": [
    "b = {'0':0,'1':1,'2':2,'3':3,'4':4,'5':5,'6':6,'7':7,'8':8,'9':9}\n",
    "a = lambda x:b[x]\n",
    "a('8')"
   ]
  },
  {
   "cell_type": "markdown",
   "metadata": {},
   "source": [
    "# 匿名函数"
   ]
  },
  {
   "cell_type": "code",
   "execution_count": 3,
   "metadata": {},
   "outputs": [
    {
     "data": {
      "text/plain": [
       "[2, 4, 6]"
      ]
     },
     "execution_count": 3,
     "metadata": {},
     "output_type": "execute_result"
    }
   ],
   "source": [
    "map (lambda x : x*2,[1,2,3])"
   ]
  },
  {
   "cell_type": "markdown",
   "metadata": {},
   "source": [
    "# 装饰器 decorator"
   ]
  },
  {
   "cell_type": "code",
   "execution_count": 23,
   "metadata": {},
   "outputs": [
    {
     "name": "stdout",
     "output_type": "stream",
     "text": [
      "1500867418.49\n",
      "1500867418.49\n"
     ]
    },
    {
     "data": {
      "text/plain": [
       "'now'"
      ]
     },
     "execution_count": 23,
     "metadata": {},
     "output_type": "execute_result"
    }
   ],
   "source": [
    "import time\n",
    "import logging\n",
    "def now():\n",
    "    print(time.time())\n",
    "now()\n",
    "f = now\n",
    "f()\n",
    "now.__name__"
   ]
  },
  {
   "cell_type": "code",
   "execution_count": 25,
   "metadata": {},
   "outputs": [
    {
     "data": {
      "text/plain": [
       "'now'"
      ]
     },
     "execution_count": 25,
     "metadata": {},
     "output_type": "execute_result"
    }
   ],
   "source": [
    "f.__name__"
   ]
  },
  {
   "cell_type": "code",
   "execution_count": 36,
   "metadata": {},
   "outputs": [
    {
     "name": "stdout",
     "output_type": "stream",
     "text": [
      "call wrapper():\n",
      "call now():\n",
      "1500868252.4\n"
     ]
    }
   ],
   "source": [
    "def log(func):\n",
    "    def wrapper(*args,**kw):\n",
    "        print('call %s():'% func.__name__)\n",
    "        return func(*args,**kw)\n",
    "    return wrapper\n",
    "\n",
    "@log\n",
    "def now():\n",
    "    print(time.time())\n",
    "    \n",
    "log(now)()"
   ]
  },
  {
   "cell_type": "code",
   "execution_count": 6,
   "metadata": {},
   "outputs": [
    {
     "data": {
      "text/plain": [
       "2625"
      ]
     },
     "execution_count": 6,
     "metadata": {},
     "output_type": "execute_result"
    }
   ],
   "source": [
    "int('a41',base=16)"
   ]
  },
  {
   "cell_type": "code",
   "execution_count": 10,
   "metadata": {},
   "outputs": [
    {
     "data": {
      "text/plain": [
       "85"
      ]
     },
     "execution_count": 10,
     "metadata": {},
     "output_type": "execute_result"
    }
   ],
   "source": [
    "from functools import partial\n",
    "int2 = partial(int,base=2)\n",
    "int2('1010101')"
   ]
  },
  {
   "cell_type": "code",
   "execution_count": 14,
   "metadata": {},
   "outputs": [
    {
     "name": "stdout",
     "output_type": "stream",
     "text": [
      "('a', 'b', 'c', 'd')\n",
      "('z', 'w', 'a', 'b')\n"
     ]
    }
   ],
   "source": [
    "def my_func(a,b,c,d):\n",
    "    print(a,b,c,d)\n",
    "my_func('a','b','c','d')\n",
    "my_func2 = partial(my_func,'z','w')\n",
    "my_func2('a','b')"
   ]
  },
  {
   "cell_type": "code",
   "execution_count": 1,
   "metadata": {},
   "outputs": [
    {
     "name": "stdout",
     "output_type": "stream",
     "text": [
      "....\n"
     ]
    }
   ],
   "source": [
    "import sys\n",
    "\n",
    "def test():\n",
    "    args = sys.argv\n",
    "    if len(args)==1:\n",
    "        print 'Hello World!'\n",
    "    elif len(args)==2:\n",
    "        print 'Hello %s' % args[1]\n",
    "    else:\n",
    "        print '....'\n",
    "if __name__=='__main__':\n",
    "    test()"
   ]
  },
  {
   "cell_type": "code",
   "execution_count": 6,
   "metadata": {},
   "outputs": [
    {
     "data": {
      "text/plain": [
       "'MARK'"
      ]
     },
     "execution_count": 6,
     "metadata": {},
     "output_type": "execute_result"
    }
   ],
   "source": [
    "class Student(object):\n",
    "    def __init__(self,name,score):\n",
    "        self.name = name\n",
    "        self.score = score\n",
    "    def get_grade(self):\n",
    "        if self.score >= 90:\n",
    "            return 'A'\n",
    "        elif self.score >= 60:\n",
    "            return 'B'\n",
    "        else:\n",
    "            return 'C'\n",
    "howie = Student('Howie',99)\n",
    "howie.get_grade()\n",
    "howie.name ='MARK' # it was unacceptable\n",
    "howie.name"
   ]
  },
  {
   "cell_type": "markdown",
   "metadata": {},
   "source": [
    "类中在属性名前面加'__'会将该属性改为一个私有变量"
   ]
  },
  {
   "cell_type": "code",
   "execution_count": 1,
   "metadata": {},
   "outputs": [
    {
     "name": "stdout",
     "output_type": "stream",
     "text": [
      "Howie\n",
      "ERROR::AttributeError:'Student' object has no attribute '__name'\n"
     ]
    }
   ],
   "source": [
    "class Student(object):\n",
    "    def __init__(self,name,score):\n",
    "        self.__name = name\n",
    "        self.__score = score\n",
    "    def get_grade(self):\n",
    "        if self.__score >= 90:\n",
    "            return 'A'\n",
    "        elif self.__score >= 60:\n",
    "            return 'B'\n",
    "        else:\n",
    "            return 'C'\n",
    "    def get_name(self):\n",
    "        return self.__name\n",
    "howie = Student('Howie',99)\n",
    "howie.get_grade()\n",
    "print howie.get_name()\n",
    "howie._Student__name\n",
    "try:\n",
    "    howie.__name\n",
    "except AttributeError,e:\n",
    "    print 'ERROR::AttributeError:'+str(e)\n",
    "else:\n",
    "    print 'PASS'"
   ]
  },
  {
   "cell_type": "code",
   "execution_count": 10,
   "metadata": {
    "scrolled": true
   },
   "outputs": [
    {
     "name": "stderr",
     "output_type": "stream",
     "text": [
      "WARNING:root:This is warning message\n",
      "ERROR:root:This is error message\n",
      "CRITICAL:root:This is critical message\n"
     ]
    }
   ],
   "source": [
    "import logging\n",
    "logging.debug('this is debug message')\n",
    "logging.info('This is info message')\n",
    "logging.warning('This is warning message')\n",
    "logging.error('This is error message')\n",
    "logging.critical('This is critical message') #极重要的"
   ]
  },
  {
   "cell_type": "code",
   "execution_count": 13,
   "metadata": {},
   "outputs": [
    {
     "name": "stderr",
     "output_type": "stream",
     "text": [
      "WARNING:root:This is warning message\n",
      "root        : WARNING  This is warning message\n",
      "root        : WARNING  This is warning message\n"
     ]
    }
   ],
   "source": [
    "import logging\n",
    "\n",
    "logging.basicConfig(level=logging.DEBUG,\n",
    "                format='%(asctime)s %(filename)s[line:%(lineno)d] %(levelname)s %(message)s',\n",
    "                datefmt='%a, %d %b %Y %H:%M:%S',\n",
    "                filename='myapp.log',\n",
    "                filemode='a')\n",
    "\n",
    "#################################################################################################\n",
    "#定义一个StreamHandler，将INFO级别或更高的日志信息打印到标准错误，并将其添加到当前的日志处理对象#\n",
    "console = logging.StreamHandler()\n",
    "console.setLevel(logging.INFO)\n",
    "formatter = logging.Formatter('%(name)-12s: %(levelname)-8s %(message)s')\n",
    "console.setFormatter(formatter)\n",
    "logging.getLogger('').addHandler(console)\n",
    "#################################################################################################\n",
    "\n",
    "logging.debug('This is debug message')\n",
    "logging.info('This is info message')\n",
    "logging.warning('This is warning message')"
   ]
  }
 ],
 "metadata": {
  "kernelspec": {
   "display_name": "Python 2",
   "language": "python",
   "name": "python2"
  },
  "language_info": {
   "codemirror_mode": {
    "name": "ipython",
    "version": 2
   },
   "file_extension": ".py",
   "mimetype": "text/x-python",
   "name": "python",
   "nbconvert_exporter": "python",
   "pygments_lexer": "ipython2",
   "version": "2.7.13"
  }
 },
 "nbformat": 4,
 "nbformat_minor": 2
}
