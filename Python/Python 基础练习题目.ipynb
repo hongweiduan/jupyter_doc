{
 "cells": [
  {
   "cell_type": "code",
   "execution_count": 40,
   "metadata": {},
   "outputs": [
    {
     "data": {
      "text/plain": [
       "'ab'"
      ]
     },
     "execution_count": 40,
     "metadata": {},
     "output_type": "execute_result"
    }
   ],
   "source": [
    "# 题 1\n",
    "# 检查密码规则合法性\n",
    "# 考察基本编码能力和字符串处理\n",
    "# 参考 python 文档的字符串库\n",
    "\n",
    "# 给定一个字符串，用以下规则检查合法性\n",
    "# 完全符合返回 True，否则返回 False\n",
    "# 1，第一位是字母\n",
    "# 2，只能包含字母、数字、下划线\n",
    "# 3，只能字母或数字结尾\n",
    "# 4，最小长度2\n",
    "# 5，最大长度10\n",
    "def valid_password(pwd):\n",
    "    if len(pwd)<2 or len(pwd)>10:\n",
    "        return \"invalid password1\"\n",
    "    # check first char\n",
    "    if ord(\"A\")>ord(pwd[0]) or ord(pwd[0])>ord(\"z\"):\n",
    "        return \"invalid password2\"\n",
    "    if not((ord(pwd[len(pwd)-1])>=ord(\"A\") and ord(pwd[len(pwd)-1])<=ord(\"z\")) or (ord(pwd[len(pwd)-1])>=ord(\"0\") and ord(pwd[len(pwd)-1])<=ord(\"9\"))):\n",
    "        return \"invalid password3\"\n",
    "    if or\n",
    "    return pwd\n",
    "valid_password(\"ab\")\n",
    "# ord(\"A\")"
   ]
  },
  {
   "cell_type": "code",
   "execution_count": null,
   "metadata": {
    "collapsed": true
   },
   "outputs": [],
   "source": []
  }
 ],
 "metadata": {
  "kernelspec": {
   "display_name": "Python 2",
   "language": "python",
   "name": "python2"
  },
  "language_info": {
   "codemirror_mode": {
    "name": "ipython",
    "version": 2
   },
   "file_extension": ".py",
   "mimetype": "text/x-python",
   "name": "python",
   "nbconvert_exporter": "python",
   "pygments_lexer": "ipython2",
   "version": "2.7.13"
  }
 },
 "nbformat": 4,
 "nbformat_minor": 2
}
