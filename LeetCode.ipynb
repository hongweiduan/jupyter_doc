{
 "cells": [
  {
   "cell_type": "markdown",
   "metadata": {},
   "source": [
    "# 2 \n",
    "You are given two non-empty linked lists representing two non-negative integers. The digits are stored in reverse order and each of their nodes contain a single digit. Add the two numbers and return it as a linked list.\n",
    "\n",
    "You may assume the two numbers do not contain any leading zero, except the number 0 itself.\n",
    "\n",
    "Input: (2 -> 4 -> 3) + (5 -> 6 -> 4)\n",
    "Output: 7 -> 0 -> 8"
   ]
  },
  {
   "cell_type": "code",
   "execution_count": null,
   "metadata": {
    "collapsed": true
   },
   "outputs": [],
   "source": []
  },
  {
   "cell_type": "markdown",
   "metadata": {},
   "source": [
    "# 7-Reverse Integer\n",
    "Reverse digits of an integer.\n",
    "\n",
    "Example1: x = 123, return 321\n",
    "Example2: x = -123, return -321\n",
    "\n",
    "Note:\n",
    "The input is assumed to be a 32-bit signed integer. Your function should return 0 when the reversed integer overflows."
   ]
  },
  {
   "cell_type": "code",
   "execution_count": 70,
   "metadata": {},
   "outputs": [
    {
     "name": "stdout",
     "output_type": "stream",
     "text": [
      "0\n"
     ]
    }
   ],
   "source": [
    "class Solution(object):\n",
    "    def int_overflow(self,val):  \n",
    "        maxint = 2147483647  \n",
    "        if not -maxint-1 <= val <= maxint:  \n",
    "            raise ValueError,\"32_int outof range\"  \n",
    "        return val  \n",
    "    def reverse(self, x):\n",
    "        \"\"\"\n",
    "        :type x: int\n",
    "        :rtype: int\n",
    "        \"\"\"\n",
    "        if type(x)==int:\n",
    "            s_in = str(x)\n",
    "            s_out = ''\n",
    "            if s_in[0]=='-':\n",
    "                s_out = s_out+'-'\n",
    "                s_in = s_in[1:]\n",
    "            else:\n",
    "                s_out += ''\n",
    "            for i in range(len(s_in)):\n",
    "                s_out+=s_in[len(s_in)-i-1]\n",
    "            try:\n",
    "                self.int_overflow(int(s_out))\n",
    "            except:\n",
    "                return 0                \n",
    "            else:\n",
    "                return int(s_out)\n",
    "        else:\n",
    "            raise TypeError\n",
    "        \n",
    "        \n",
    "c = Solution()\n",
    "print c.reverse(0)"
   ]
  },
  {
   "cell_type": "code",
   "execution_count": 1,
   "metadata": {},
   "outputs": [
    {
     "name": "stdout",
     "output_type": "stream",
     "text": [
      "0\n"
     ]
    }
   ],
   "source": [
    "class Solution(object):\n",
    "    def reverse(self, x):\n",
    "        s=cmp(x,0);r=int(`s*x`[::-1]);return(r<2**31)*s*r\n",
    "c = Solution()\n",
    "print c.reverse(2147483647)"
   ]
  },
  {
   "cell_type": "markdown",
   "metadata": {},
   "source": [
    "- \\`s\\`表示将s的值变为字符串，相当于str（s）\n",
    "- s[::-1]反转字符串，[a:b:i]相当于[start:end:step]\n",
    "- cmp(a,b) 比较a，b的值，a>b return 1;a<b return -1; a=b return 0;"
   ]
  },
  {
   "cell_type": "code",
   "execution_count": 52,
   "metadata": {
    "collapsed": true
   },
   "outputs": [],
   "source": [
    "s = 12345\n",
    "a =`s`[-1:-6:-1]\n",
    "a =`s`[::-1]"
   ]
  },
  {
   "cell_type": "markdown",
   "metadata": {},
   "source": [
    "# 9. Palindrome Number\n",
    "Determine whether an integer is a palindrome. Do this without extra space."
   ]
  },
  {
   "cell_type": "markdown",
   "metadata": {},
   "source": [
    "a error answer is using change to string"
   ]
  },
  {
   "cell_type": "code",
   "execution_count": 2,
   "metadata": {},
   "outputs": [
    {
     "data": {
      "text/plain": [
       "True"
      ]
     },
     "execution_count": 2,
     "metadata": {},
     "output_type": "execute_result"
    }
   ],
   "source": [
    "class Solution_error(object):\n",
    "    def palindrome(self,x):\n",
    "        return `x`[::-1]==`x`\n",
    "a = 123212\n",
    "Solution_error().palindrome(a)"
   ]
  },
  {
   "cell_type": "code",
   "execution_count": 4,
   "metadata": {},
   "outputs": [
    {
     "data": {
      "text/plain": [
       "False"
      ]
     },
     "execution_count": 4,
     "metadata": {},
     "output_type": "execute_result"
    }
   ],
   "source": [
    "class Solution(object):\n",
    "    def palindrome(self,x):\n",
    "        if cmp(x,0)+1:\n",
    "            ranger = 1\n",
    "            while x/ranger >=10:\n",
    "                ranger*=10\n",
    "            while x:\n",
    "                left = x/ranger\n",
    "                right = x%10\n",
    "                if left <> right:\n",
    "                    return False\n",
    "                x = (x%ranger)/10\n",
    "                ranger /=100 \n",
    "            return True\n",
    "        else:\n",
    "            return False\n",
    "a = 123456     \n",
    "Solution().palindrome(a)"
   ]
  },
  {
   "cell_type": "markdown",
   "metadata": {},
   "source": [
    "# 13. Roman to Integer\n",
    "Given a roman numeral, convert it to an integer.\n",
    "\n",
    "Input is guaranteed to be within the range from 1 to 3999."
   ]
  },
  {
   "cell_type": "code",
   "execution_count": null,
   "metadata": {
    "collapsed": true
   },
   "outputs": [],
   "source": []
  },
  {
   "cell_type": "markdown",
   "metadata": {},
   "source": [
    "# 14. Longest Common Prefix\n",
    "Write a function to find the longest common prefix string amongst an array of strings."
   ]
  },
  {
   "cell_type": "code",
   "execution_count": null,
   "metadata": {
    "collapsed": true
   },
   "outputs": [],
   "source": []
  }
 ],
 "metadata": {
  "kernelspec": {
   "display_name": "Python 2",
   "language": "python",
   "name": "python2"
  },
  "language_info": {
   "codemirror_mode": {
    "name": "ipython",
    "version": 2
   },
   "file_extension": ".py",
   "mimetype": "text/x-python",
   "name": "python",
   "nbconvert_exporter": "python",
   "pygments_lexer": "ipython2",
   "version": "2.7.13"
  }
 },
 "nbformat": 4,
 "nbformat_minor": 2
}
